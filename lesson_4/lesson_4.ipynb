{
 "cells": [
  {
   "cell_type": "markdown",
   "id": "b4c64cf1",
   "metadata": {},
   "source": [
    "## Задание \n",
    "\n",
    "    Написать приложение, которое собирает основные новости с сайта на выбор lenta.ru, news.mail.ru, yandex-новости. Для парсинга использовать XPath. Структура данных должна содержать:\n",
    "        название источника;\n",
    "        наименование новости;\n",
    "        ссылку на новость;\n",
    "        дата публикации.\n",
    "    Сложить собранные данные в БД\n",
    "\n",
    "Минимум один сайт, максимум - все три\n"
   ]
  },
  {
   "cell_type": "code",
   "execution_count": 1,
   "id": "e913f137",
   "metadata": {},
   "outputs": [],
   "source": [
    "import pandas as pd\n",
    "from bs4 import BeautifulSoup\n",
    "import requests\n",
    "from lxml import html\n",
    "from pprint import pprint\n",
    "\n",
    "import pymongo\n",
    "from pymongo import MongoClient\n",
    "import datetime\n",
    "\n",
    "headers = {'User-Agent': 'Mozilla/5.0 (X11; Linux x86_64; rv:69.0) Gecko/20100101 Firefox/69.0'}\n",
    "now = datetime.datetime.now()"
   ]
  },
  {
   "cell_type": "code",
   "execution_count": 2,
   "id": "6e1dc5ef",
   "metadata": {},
   "outputs": [],
   "source": [
    "# Подключение к локальному серверу MongoDB.\n",
    "client = MongoClient('127.0.0.1', 27017)\n",
    "db = client['news']\n",
    "news = db.news"
   ]
  },
  {
   "cell_type": "code",
   "execution_count": 3,
   "id": "49287078",
   "metadata": {},
   "outputs": [],
   "source": [
    "# lenta\n",
    "\n",
    "source_name = 'https://lenta.ru'\n",
    "response = requests.get(source_name)\n",
    "dom = html.fromstring(response.text)\n",
    "\n",
    "item = dom.xpath('//time[@class = \"g-time\"]/../..')\n",
    "for el in item:\n",
    "    url = 'https://lenta.ru' + el.xpath('./a/@href')[0]\n",
    "    title = el.xpath('./a/text()')[0]\n",
    "    title = title.replace('\\xa0', ' ')\n",
    "    publication_date = el.xpath('./a/time/@title')[0]\n",
    "    \n",
    "    result_lenta_dic = {\n",
    "        'url': url,\n",
    "        'title': title, \n",
    "        'publication_date': publication_date, \n",
    "        'source_name': source_name\n",
    "    }\n",
    "    # добавляем в БД\n",
    "    news.insert_one(result_lenta_dic)"
   ]
  },
  {
   "cell_type": "code",
   "execution_count": 4,
   "id": "cccd2d97",
   "metadata": {},
   "outputs": [],
   "source": [
    "# yandex\n",
    "\n",
    "sourse_name = 'https://yandex.ru/news'\n",
    "rubrics = ['business', 'personal_feed', 'society', 'world', 'sport', 'incident', 'science']\n",
    "response = requests.get(sourse_name)\n",
    "dom = html.fromstring(response.text)\n",
    "\n",
    "for rubric in rubrics:\n",
    "    item = dom.xpath(f\"//a[contains(@href, 'rubric={rubric}') and @class = 'mg-card__link']/ancestor::article\")\n",
    "    for i in item:\n",
    "        url = i.xpath(\".//a[@class = 'mg-card__link']/@href\")[0]\n",
    "        title = i.xpath(\".//h2[@class = 'mg-card__title']/text()\")[0] \n",
    "        title = title.replace('\\xa0', ' ')\n",
    "        # Все новости на странице имеют текущую дату\n",
    "        publication_date = now.strftime(\"%d-%m-%Y\")\n",
    "        sourse_name = i.xpath(\".//a[@class = 'mg-card__source-link']/text()\")[0]\n",
    "        \n",
    "        result_yandex_dic = {\n",
    "            'url': url,\n",
    "            'title': title, \n",
    "            'publication_date': publication_date, \n",
    "            'source_name': source_name\n",
    "        }\n",
    "        # добавляем в БД\n",
    "        news.insert_one(result_yandex_dic)"
   ]
  },
  {
   "cell_type": "code",
   "execution_count": 5,
   "id": "ff4a1cd5",
   "metadata": {},
   "outputs": [],
   "source": [
    "# news mail\n",
    "from datetime import datetime\n",
    "\n",
    "url = 'https://news.mail.ru/'\n",
    "responce = requests.get(url, headers=headers)\n",
    "dom = html.fromstring(responce.text)\n",
    "\n",
    "news_mail = dom.xpath(\"//div[@class='js-module']//li[@class='list__item' ]//@href \"\n",
    "                 \"| //td[@class='daynews__main']//@href | //td[@class='daynews__items']//@href\")\n",
    "\n",
    "news_mail = ['https://news.mail.ru/economics/47736764/']\n",
    "for url in news_mail:\n",
    "    news_detail = requests.get(url, headers=headers)\n",
    "    dom_news_detail = html.fromstring(news_detail.text)\n",
    "    \n",
    "    title = dom_news_detail.xpath(\".//h1[@class='hdr__inner']//text()\")[0]\n",
    "    source_name = dom_news_detail.xpath(\"//a[@class = 'link color_gray breadcrumbs__link']/span/text()\")[0]\n",
    "    times = datetime.strptime(dom_news_detail.xpath(\".//span[@class='note__text breadcrumbs__text js-ago']//@datetime\")[0][:19], \"%Y-%m-%dT%H:%M:%S\")    \n",
    "    \n",
    "    result_mail_dic = {\n",
    "        'url': url,\n",
    "        'title': title, \n",
    "        'publication_date': publication_date, \n",
    "        'sourse_name': source_name\n",
    "    }\n",
    "    # добавляем в БД\n",
    "    news.insert_one(result_mail_dic)"
   ]
  },
  {
   "cell_type": "markdown",
   "id": "3f8a5bc4",
   "metadata": {},
   "source": [
    "db.news.delete_many({})"
   ]
  },
  {
   "cell_type": "code",
   "execution_count": 6,
   "id": "323e4177",
   "metadata": {},
   "outputs": [
    {
     "name": "stdout",
     "output_type": "stream",
     "text": [
      "Количество документов в коллекции MongoDB: \n",
      "46\n"
     ]
    }
   ],
   "source": [
    "print(f'Количество документов в коллекции MongoDB: \\n{db.news.count_documents({})}')"
   ]
  }
 ],
 "metadata": {
  "kernelspec": {
   "display_name": "Python 3",
   "language": "python",
   "name": "python3"
  },
  "language_info": {
   "codemirror_mode": {
    "name": "ipython",
    "version": 3
   },
   "file_extension": ".py",
   "mimetype": "text/x-python",
   "name": "python",
   "nbconvert_exporter": "python",
   "pygments_lexer": "ipython3",
   "version": "3.8.8"
  }
 },
 "nbformat": 4,
 "nbformat_minor": 5
}
